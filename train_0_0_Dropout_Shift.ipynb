{
 "cells": [
  {
   "cell_type": "markdown",
   "id": "c284c100-7264-41aa-bc3e-8bc568c41e5d",
   "metadata": {},
   "source": [
    "# NN for MIP to MTV"
   ]
  },
  {
   "cell_type": "markdown",
   "id": "511e9446-3aa4-48b7-a7c3-216b9a73d9e0",
   "metadata": {},
   "source": [
    "## Import Packages"
   ]
  },
  {
   "cell_type": "code",
   "execution_count": 1,
   "id": "21e76fe5-b9f0-440d-89f3-f5c27eb9507b",
   "metadata": {},
   "outputs": [],
   "source": [
    "from tensorflow.keras.preprocessing.image import ImageDataGenerator\n",
    "from tensorflow.keras.optimizers import Adam\n",
    "from IPython.display import Image, display\n",
    "from keras.callbacks import CSVLogger\n",
    "from matplotlib.pyplot import figure\n",
    "from tensorflow.keras import models\n",
    "from tensorflow.keras import layers\n",
    "from PIL import Image as PIL_image\n",
    "import matplotlib.pyplot as plt\n",
    "from keras.models import Model\n",
    "import keras.backend as K\n",
    "from keras import Input\n",
    "import tensorflow as tf\n",
    "import urllib.request\n",
    "from glob import glob\n",
    "import pandas as pd\n",
    "import numpy as np\n",
    "import datetime\n",
    "import imageio\n",
    "import tarfile\n",
    "import random\n",
    "import time\n"
   ]
  },
  {
   "cell_type": "markdown",
   "id": "a7cc8316-d78c-45ba-ad9c-b3433d04fe15",
   "metadata": {},
   "source": [
    "## Make Results Reproducable"
   ]
  },
  {
   "cell_type": "code",
   "execution_count": 2,
   "id": "c2ecbedc-f9cf-45de-beb9-c4fb0e79787e",
   "metadata": {},
   "outputs": [],
   "source": [
    "np.random.seed(0)\n",
    "random.seed(0)\n",
    "tf.random.set_seed(0)\n",
    "tf.random.set_seed(0)\n",
    "tf.keras.utils.set_random_seed(0)   \n",
    "tf.config.experimental.enable_op_determinism()"
   ]
  },
  {
   "cell_type": "markdown",
   "id": "17b5c5c1-2efb-4d03-8566-ef404d40ece4",
   "metadata": {
    "tags": []
   },
   "source": [
    "## Variables"
   ]
  },
  {
   "cell_type": "code",
   "execution_count": 3,
   "id": "702428fc-6e42-4f3b-9cd6-a02e05b1112b",
   "metadata": {},
   "outputs": [],
   "source": [
    "BATCH, HEIGHT, WIDTH, CHANNELS = 16, 1024, 1024, 1"
   ]
  },
  {
   "cell_type": "code",
   "execution_count": 4,
   "id": "f672074c-b1b2-4f73-a4ab-c65afbcefcc4",
   "metadata": {},
   "outputs": [],
   "source": [
    "DATASET_PATH = \"dataset/\""
   ]
  },
  {
   "cell_type": "code",
   "execution_count": 5,
   "id": "7203f5ea-d4c3-4297-893e-3389a77e1cb8",
   "metadata": {},
   "outputs": [],
   "source": [
    "RANDOM_SEED = 42"
   ]
  },
  {
   "cell_type": "code",
   "execution_count": 6,
   "id": "c3713ed9",
   "metadata": {},
   "outputs": [],
   "source": [
    "MODEL_NAME = \"0_0-Dropout\""
   ]
  },
  {
   "cell_type": "code",
   "execution_count": 7,
   "id": "735d6ad0-84a5-4d35-98d4-2296168bfcd5",
   "metadata": {},
   "outputs": [],
   "source": [
    "MODEL_FILENAME = \"model-\"+datetime.datetime.fromtimestamp(time.time()).strftime('%Y-%m-%d %H-%M-%S')"
   ]
  },
  {
   "cell_type": "code",
   "execution_count": 8,
   "id": "15451d67",
   "metadata": {},
   "outputs": [],
   "source": [
    "DROPOUT_RATE = 0.0"
   ]
  },
  {
   "cell_type": "code",
   "execution_count": 9,
   "id": "e4fb9bb8",
   "metadata": {},
   "outputs": [],
   "source": [
    "SHIFT_RANGE = 0.1"
   ]
  },
  {
   "cell_type": "code",
   "execution_count": 10,
   "id": "353a0345",
   "metadata": {},
   "outputs": [],
   "source": [
    "RANDOM_SHIFT = True"
   ]
  },
  {
   "cell_type": "markdown",
   "id": "89fa8aa4-8504-4ed0-a70f-128da7ca422f",
   "metadata": {
    "tags": []
   },
   "source": [
    "## Generator"
   ]
  },
  {
   "cell_type": "code",
   "execution_count": 11,
   "id": "65381edb-3d3c-4421-bf29-255fa9a19ce3",
   "metadata": {},
   "outputs": [],
   "source": [
    "class Generator(tf.keras.utils.Sequence):\n",
    "\n",
    "    def __init__(self, df, X_col, y_col, batch_size, input_size=(HEIGHT, WIDTH, CHANNELS), shuffle=True, shift=True):\n",
    "        self.df = df.copy()\n",
    "        self.X_col = X_col\n",
    "        self.y_col = y_col\n",
    "        self.batch_size = batch_size\n",
    "        self.input_size = input_size\n",
    "        self.shuffle = shuffle\n",
    "        self.shift = shift\n",
    "\n",
    "        self.n = len(self.df)\n",
    "        self.mtv = df[y_col['mtv']].nunique()\n",
    "\n",
    "    def on_epoch_end(self):\n",
    "        if self.shuffle:\n",
    "            self.df = self.df.sample(frac=1).reset_index(drop=True)\n",
    "\n",
    "    def __get_input(self, filepath, target_size):\n",
    "        image = tf.keras.preprocessing.image.load_img(\n",
    "            filepath[0], color_mode=\"grayscale\")\n",
    "        image_arr = tf.keras.preprocessing.image.img_to_array(image)\n",
    "        if self.shift:\n",
    "            image_arr = tf.keras.preprocessing.image.random_shift(\n",
    "                image_arr, SHIFT_RANGE, SHIFT_RANGE)\n",
    "        return image_arr\n",
    "\n",
    "    def __get_output(self, label, num_classes):\n",
    "        return label\n",
    "        # return tf.keras.utils.to_categorical(label, num_classes=num_classes)\n",
    "\n",
    "    def __get_data(self, batches):\n",
    "        # Generates data containing batch_size samples\n",
    "        filepath_batch = batches[self.X_col['filepath']]\n",
    "        mtv_batch = batches[self.y_col['mtv']]\n",
    "        X_batch = np.asarray([self.__get_input(x, self.input_size)\n",
    "                             for x in zip(filepath_batch)])\n",
    "        y0_batch = np.asarray([self.__get_output(y, self.mtv)\n",
    "                              for y in mtv_batch])\n",
    "\n",
    "        return X_batch, y0_batch\n",
    "\n",
    "    def __getitem__(self, index):\n",
    "\n",
    "        batches = self.df[index *\n",
    "                          self.batch_size:(index + 1) * self.batch_size]\n",
    "        X, y = self.__get_data(batches)\n",
    "        return X, y\n",
    "\n",
    "    def __len__(self):\n",
    "        return self.n // self.batch_size\n"
   ]
  },
  {
   "cell_type": "markdown",
   "id": "ce6c758a-28bf-41d8-9098-755e025e9364",
   "metadata": {},
   "source": [
    "## Create Dataframes for Training/Test/Validation"
   ]
  },
  {
   "cell_type": "markdown",
   "id": "d5ca51df-a185-40d5-89fe-348d5e380277",
   "metadata": {},
   "source": [
    "##### Load Dataframe"
   ]
  },
  {
   "cell_type": "code",
   "execution_count": 12,
   "id": "d9892beb-c4ca-4bcf-8738-46729faaac26",
   "metadata": {},
   "outputs": [],
   "source": [
    "train_df = pd.read_csv(\"train.csv\", delimiter=\";\")\n",
    "validation_df = pd.read_csv(\"validate.csv\", delimiter=\";\")\n",
    "test_df = pd.read_csv(\"test.csv\", delimiter=\";\")\n"
   ]
  },
  {
   "cell_type": "markdown",
   "id": "0172a46e-91b4-4556-96bf-b28b9b0e1ec5",
   "metadata": {},
   "source": [
    "##### Use float as datatype for mtv"
   ]
  },
  {
   "cell_type": "code",
   "execution_count": 13,
   "id": "19971ffb-931d-4f39-871c-0b52bb469fbb",
   "metadata": {},
   "outputs": [],
   "source": [
    "train_df['mtv'] = train_df['mtv'].astype('float64')\n",
    "validation_df['mtv'] = validation_df['mtv'].astype('float64')\n",
    "test_df['mtv'] = test_df['mtv'].astype('float64')"
   ]
  },
  {
   "cell_type": "markdown",
   "id": "43438832-aa0d-40c9-a0f2-5378fb0a280c",
   "metadata": {},
   "source": [
    "## Create Generators"
   ]
  },
  {
   "cell_type": "code",
   "execution_count": 14,
   "id": "c1649bce-de8e-4078-b964-c0d0b320e983",
   "metadata": {},
   "outputs": [],
   "source": [
    "train_generator = Generator(train_df, X_col={'filepath': 'filepath'}, y_col={\n",
    "                            'mtv': 'mtv'}, batch_size=BATCH, input_size=(HEIGHT, WIDTH), shift=RANDOM_SHIFT)\n",
    "test_generator = Generator(test_df, X_col={'filepath': 'filepath'}, y_col={\n",
    "                           'mtv': 'mtv'}, batch_size=BATCH, input_size=(HEIGHT, WIDTH))\n",
    "validation_generator = Generator(validation_df, X_col={'filepath': 'filepath'}, y_col={\n",
    "                                 'mtv': 'mtv'}, batch_size=BATCH, input_size=(HEIGHT, WIDTH))\n"
   ]
  },
  {
   "cell_type": "markdown",
   "id": "99e68816-a357-447a-9c73-9388d354e93b",
   "metadata": {},
   "source": [
    "## Build Model"
   ]
  },
  {
   "cell_type": "code",
   "execution_count": 15,
   "id": "d94f1a4f",
   "metadata": {},
   "outputs": [],
   "source": [
    "def convBlock(x, filters, kernel_size=(3, 3), dropout_rate=0.0):\n",
    "    x = layers.Conv2D(filters=filters, kernel_size=kernel_size, padding=\"same\")(x)\n",
    "    x = layers.BatchNormalization()(x)\n",
    "    x = layers.Activation(tf.keras.activations.relu)(x)\n",
    "    x = layers.MaxPooling2D()(x)\n",
    "    x = layers.Dropout(dropout_rate)(x)\n",
    "    return x\n"
   ]
  },
  {
   "cell_type": "code",
   "execution_count": 16,
   "id": "f8a3021d-241d-4943-947d-2c0d24a42c6c",
   "metadata": {},
   "outputs": [
    {
     "name": "stderr",
     "output_type": "stream",
     "text": [
      "2022-10-02 13:04:37.640858: I tensorflow/core/platform/cpu_feature_guard.cc:151] This TensorFlow binary is optimized with oneAPI Deep Neural Network Library (oneDNN) to use the following CPU instructions in performance-critical operations:  AVX2 AVX512F FMA\n",
      "To enable them in other operations, rebuild TensorFlow with the appropriate compiler flags.\n",
      "2022-10-02 13:04:38.063859: I tensorflow/core/common_runtime/gpu/gpu_device.cc:1525] Created device /job:localhost/replica:0/task:0/device:GPU:0 with 46720 MB memory:  -> device: 0, name: NVIDIA RTX A6000, pci bus id: 0000:68:00.0, compute capability: 8.6\n"
     ]
    }
   ],
   "source": [
    "inputs = layers.Input(shape=(HEIGHT, WIDTH, CHANNELS))\n",
    "x = convBlock(inputs, 16, dropout_rate=DROPOUT_RATE)\n",
    "x = convBlock(x, 32, dropout_rate=DROPOUT_RATE)\n",
    "x = convBlock(x, 64, dropout_rate=DROPOUT_RATE)\n",
    "x = convBlock(x, 128, dropout_rate=DROPOUT_RATE)\n",
    "x = convBlock(x, 256, dropout_rate=DROPOUT_RATE)\n",
    "x = convBlock(x, 512, dropout_rate=DROPOUT_RATE)\n",
    "x = convBlock(x, 1024, dropout_rate=DROPOUT_RATE)\n",
    "x = convBlock(x, 1024, dropout_rate=DROPOUT_RATE)\n",
    "x = convBlock(x, 1024, dropout_rate=DROPOUT_RATE)\n",
    "x = convBlock(x, 1024, dropout_rate=DROPOUT_RATE)\n",
    "\n",
    "x = layers.Flatten()(x)\n",
    "x = layers.Dense(1024, activation='relu')(x)\n",
    "outputs = layers.Dense(1, activation='linear')(x)\n",
    "\n",
    "model = Model(inputs=inputs, outputs=outputs)\n",
    "model.compile(loss=\"mse\", optimizer=\"adam\", metrics=['mae'])\n"
   ]
  },
  {
   "cell_type": "markdown",
   "id": "a46c8f72-c608-4fb7-a1e5-6fb31d370b97",
   "metadata": {},
   "source": [
    "## Show Model"
   ]
  },
  {
   "cell_type": "code",
   "execution_count": 17,
   "id": "65b826c9-02b3-45d4-a5b2-83f19ae28750",
   "metadata": {},
   "outputs": [
    {
     "name": "stdout",
     "output_type": "stream",
     "text": [
      "Model: \"model\"\n",
      "_________________________________________________________________\n",
      " Layer (type)                Output Shape              Param #   \n",
      "=================================================================\n",
      " input_1 (InputLayer)        [(None, 1024, 1024, 1)]   0         \n",
      "                                                                 \n",
      " conv2d (Conv2D)             (None, 1024, 1024, 16)    160       \n",
      "                                                                 \n",
      " batch_normalization (BatchN  (None, 1024, 1024, 16)   64        \n",
      " ormalization)                                                   \n",
      "                                                                 \n",
      " activation (Activation)     (None, 1024, 1024, 16)    0         \n",
      "                                                                 \n",
      " max_pooling2d (MaxPooling2D  (None, 512, 512, 16)     0         \n",
      " )                                                               \n",
      "                                                                 \n",
      " dropout (Dropout)           (None, 512, 512, 16)      0         \n",
      "                                                                 \n",
      " conv2d_1 (Conv2D)           (None, 512, 512, 32)      4640      \n",
      "                                                                 \n",
      " batch_normalization_1 (Batc  (None, 512, 512, 32)     128       \n",
      " hNormalization)                                                 \n",
      "                                                                 \n",
      " activation_1 (Activation)   (None, 512, 512, 32)      0         \n",
      "                                                                 \n",
      " max_pooling2d_1 (MaxPooling  (None, 256, 256, 32)     0         \n",
      " 2D)                                                             \n",
      "                                                                 \n",
      " dropout_1 (Dropout)         (None, 256, 256, 32)      0         \n",
      "                                                                 \n",
      " conv2d_2 (Conv2D)           (None, 256, 256, 64)      18496     \n",
      "                                                                 \n",
      " batch_normalization_2 (Batc  (None, 256, 256, 64)     256       \n",
      " hNormalization)                                                 \n",
      "                                                                 \n",
      " activation_2 (Activation)   (None, 256, 256, 64)      0         \n",
      "                                                                 \n",
      " max_pooling2d_2 (MaxPooling  (None, 128, 128, 64)     0         \n",
      " 2D)                                                             \n",
      "                                                                 \n",
      " dropout_2 (Dropout)         (None, 128, 128, 64)      0         \n",
      "                                                                 \n",
      " conv2d_3 (Conv2D)           (None, 128, 128, 128)     73856     \n",
      "                                                                 \n",
      " batch_normalization_3 (Batc  (None, 128, 128, 128)    512       \n",
      " hNormalization)                                                 \n",
      "                                                                 \n",
      " activation_3 (Activation)   (None, 128, 128, 128)     0         \n",
      "                                                                 \n",
      " max_pooling2d_3 (MaxPooling  (None, 64, 64, 128)      0         \n",
      " 2D)                                                             \n",
      "                                                                 \n",
      " dropout_3 (Dropout)         (None, 64, 64, 128)       0         \n",
      "                                                                 \n",
      " conv2d_4 (Conv2D)           (None, 64, 64, 256)       295168    \n",
      "                                                                 \n",
      " batch_normalization_4 (Batc  (None, 64, 64, 256)      1024      \n",
      " hNormalization)                                                 \n",
      "                                                                 \n",
      " activation_4 (Activation)   (None, 64, 64, 256)       0         \n",
      "                                                                 \n",
      " max_pooling2d_4 (MaxPooling  (None, 32, 32, 256)      0         \n",
      " 2D)                                                             \n",
      "                                                                 \n",
      " dropout_4 (Dropout)         (None, 32, 32, 256)       0         \n",
      "                                                                 \n",
      " conv2d_5 (Conv2D)           (None, 32, 32, 512)       1180160   \n",
      "                                                                 \n",
      " batch_normalization_5 (Batc  (None, 32, 32, 512)      2048      \n",
      " hNormalization)                                                 \n",
      "                                                                 \n",
      " activation_5 (Activation)   (None, 32, 32, 512)       0         \n",
      "                                                                 \n",
      " max_pooling2d_5 (MaxPooling  (None, 16, 16, 512)      0         \n",
      " 2D)                                                             \n",
      "                                                                 \n",
      " dropout_5 (Dropout)         (None, 16, 16, 512)       0         \n",
      "                                                                 \n",
      " conv2d_6 (Conv2D)           (None, 16, 16, 1024)      4719616   \n",
      "                                                                 \n",
      " batch_normalization_6 (Batc  (None, 16, 16, 1024)     4096      \n",
      " hNormalization)                                                 \n",
      "                                                                 \n",
      " activation_6 (Activation)   (None, 16, 16, 1024)      0         \n",
      "                                                                 \n",
      " max_pooling2d_6 (MaxPooling  (None, 8, 8, 1024)       0         \n",
      " 2D)                                                             \n",
      "                                                                 \n",
      " dropout_6 (Dropout)         (None, 8, 8, 1024)        0         \n",
      "                                                                 \n",
      " conv2d_7 (Conv2D)           (None, 8, 8, 1024)        9438208   \n",
      "                                                                 \n",
      " batch_normalization_7 (Batc  (None, 8, 8, 1024)       4096      \n",
      " hNormalization)                                                 \n",
      "                                                                 \n",
      " activation_7 (Activation)   (None, 8, 8, 1024)        0         \n",
      "                                                                 \n",
      " max_pooling2d_7 (MaxPooling  (None, 4, 4, 1024)       0         \n",
      " 2D)                                                             \n",
      "                                                                 \n",
      " dropout_7 (Dropout)         (None, 4, 4, 1024)        0         \n",
      "                                                                 \n",
      " conv2d_8 (Conv2D)           (None, 4, 4, 1024)        9438208   \n",
      "                                                                 \n",
      " batch_normalization_8 (Batc  (None, 4, 4, 1024)       4096      \n",
      " hNormalization)                                                 \n",
      "                                                                 \n",
      " activation_8 (Activation)   (None, 4, 4, 1024)        0         \n",
      "                                                                 \n",
      " max_pooling2d_8 (MaxPooling  (None, 2, 2, 1024)       0         \n",
      " 2D)                                                             \n",
      "                                                                 \n",
      " dropout_8 (Dropout)         (None, 2, 2, 1024)        0         \n",
      "                                                                 \n",
      " conv2d_9 (Conv2D)           (None, 2, 2, 1024)        9438208   \n",
      "                                                                 \n",
      " batch_normalization_9 (Batc  (None, 2, 2, 1024)       4096      \n",
      " hNormalization)                                                 \n",
      "                                                                 \n",
      " activation_9 (Activation)   (None, 2, 2, 1024)        0         \n",
      "                                                                 \n",
      " max_pooling2d_9 (MaxPooling  (None, 1, 1, 1024)       0         \n",
      " 2D)                                                             \n",
      "                                                                 \n",
      " dropout_9 (Dropout)         (None, 1, 1, 1024)        0         \n",
      "                                                                 \n",
      " flatten (Flatten)           (None, 1024)              0         \n",
      "                                                                 \n",
      " dense (Dense)               (None, 1024)              1049600   \n",
      "                                                                 \n",
      " dense_1 (Dense)             (None, 1)                 1025      \n",
      "                                                                 \n",
      "=================================================================\n",
      "Total params: 35,677,761\n",
      "Trainable params: 35,667,553\n",
      "Non-trainable params: 10,208\n",
      "_________________________________________________________________\n"
     ]
    }
   ],
   "source": [
    "model.summary()"
   ]
  },
  {
   "cell_type": "markdown",
   "id": "82dac438-7d81-4caa-96de-70ef0f26e675",
   "metadata": {},
   "source": [
    "## Create Callbacks"
   ]
  },
  {
   "cell_type": "code",
   "execution_count": 18,
   "id": "cf9c348c-970b-4c67-8b1c-e6a583554b98",
   "metadata": {},
   "outputs": [],
   "source": [
    "early_stopping_callback = tf.keras.callbacks.EarlyStopping(patience=100, monitor=\"val_loss\", min_delta=0.1, restore_best_weights=True)"
   ]
  },
  {
   "cell_type": "code",
   "execution_count": 19,
   "id": "7c40cf96-7e82-4bd1-82ee-b3ad9548719a",
   "metadata": {},
   "outputs": [],
   "source": [
    "csv_logger = CSVLogger(MODEL_FILENAME+\"_log.csv\", append=False)"
   ]
  },
  {
   "cell_type": "markdown",
   "id": "326d1fd2-a952-4fce-94d6-d11c3f3d3899",
   "metadata": {},
   "source": [
    "## Train Model"
   ]
  },
  {
   "cell_type": "code",
   "execution_count": null,
   "id": "c79e0c8c-96ad-43fe-87f9-72add6158ae8",
   "metadata": {
    "tags": []
   },
   "outputs": [
    {
     "name": "stdout",
     "output_type": "stream",
     "text": [
      "Epoch 1/1000\n"
     ]
    },
    {
     "name": "stderr",
     "output_type": "stream",
     "text": [
      "2022-10-02 13:04:42.746245: I tensorflow/stream_executor/cuda/cuda_dnn.cc:368] Loaded cuDNN version 8500\n",
      "2022-10-02 13:04:43.157239: I tensorflow/core/platform/default/subprocess.cc:304] Start cannot spawn child process: No such file or directory\n",
      "2022-10-02 13:04:43.758455: I tensorflow/stream_executor/cuda/cuda_blas.cc:1786] TensorFloat-32 will be used for the matrix multiplication. This will only be logged once.\n"
     ]
    },
    {
     "name": "stdout",
     "output_type": "stream",
     "text": [
      "29/29 [==============================] - 49s 2s/step - loss: 85811.8828 - mae: 136.3233 - val_loss: 18203248640.0000 - val_mae: 134918.6406\n",
      "Epoch 2/1000\n",
      " 9/29 [========>.....................] - ETA: 24s - loss: 90593.0703 - mae: 136.9223"
     ]
    }
   ],
   "source": [
    "history = model.fit(train_generator, epochs=1000, verbose=1, callbacks=[early_stopping_callback, csv_logger], validation_data=validation_generator)"
   ]
  },
  {
   "cell_type": "markdown",
   "id": "ebba3d03-b3a4-4d5b-8452-84cd58d373e7",
   "metadata": {
    "tags": []
   },
   "source": [
    "## Save Model"
   ]
  },
  {
   "cell_type": "code",
   "execution_count": null,
   "id": "86faf41d-7b3c-4e8e-8ab9-193abb15ab6c",
   "metadata": {},
   "outputs": [],
   "source": [
    "model.save(MODEL_FILENAME)"
   ]
  },
  {
   "cell_type": "markdown",
   "id": "2cb2de0c-a983-4958-bdf8-50de1fefd103",
   "metadata": {},
   "source": [
    "## Plot History"
   ]
  },
  {
   "cell_type": "code",
   "execution_count": null,
   "id": "485d1878-4b91-44d9-8200-51603bfec9cf",
   "metadata": {},
   "outputs": [],
   "source": [
    "plt.rcParams.update({'font.size': 10})\n",
    "plt.plot(history.history['mae'])\n",
    "plt.plot(history.history['val_mae'])\n",
    "plt.title('model mse')\n",
    "plt.ylabel('mse')\n",
    "plt.xlabel('epoch')\n",
    "plt.legend(['train', 'val'], loc='upper left')\n",
    "plt.show()"
   ]
  },
  {
   "cell_type": "code",
   "execution_count": null,
   "id": "ced5e69f-743c-4ae8-b658-68bfbefa7dea",
   "metadata": {},
   "outputs": [],
   "source": []
  }
 ],
 "metadata": {
  "kernelspec": {
   "display_name": "Python 3 (ipykernel)",
   "language": "python",
   "name": "python3"
  },
  "language_info": {
   "codemirror_mode": {
    "name": "ipython",
    "version": 3
   },
   "file_extension": ".py",
   "mimetype": "text/x-python",
   "name": "python",
   "nbconvert_exporter": "python",
   "pygments_lexer": "ipython3",
   "version": "3.10.6"
  },
  "vscode": {
   "interpreter": {
    "hash": "f0e252e38867c5c5dbaa4d840f6f52d4785511881d0242d037299812a0aec8ad"
   }
  }
 },
 "nbformat": 4,
 "nbformat_minor": 5
}
