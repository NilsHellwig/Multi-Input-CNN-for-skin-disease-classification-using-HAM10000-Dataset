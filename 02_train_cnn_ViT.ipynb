{
 "cells": [
  {
   "cell_type": "markdown",
   "id": "0165affb-ae1a-46c5-a5bd-b570787a2d67",
   "metadata": {},
   "source": [
    "## Load Packages"
   ]
  },
  {
   "cell_type": "code",
   "execution_count": 1,
   "id": "096756c2-e44a-454d-bbd0-275a13703386",
   "metadata": {},
   "outputs": [
    {
     "name": "stdout",
     "output_type": "stream",
     "text": [
      "sex ['female', 'male', 'unknown']\n",
      "localization ['abdomen', 'acral', 'back', 'chest', 'ear', 'face', 'foot', 'genital', 'hand', 'lower extremity', 'neck', 'scalp', 'trunk', 'unknown', 'upper extremity']\n",
      "dx ['akiec', 'bcc', 'bkl', 'df', 'mel', 'nv', 'vasc']\n"
     ]
    },
    {
     "name": "stderr",
     "output_type": "stream",
     "text": [
      "/opt/homebrew/Caskroom/miniforge/base/envs/tensorflow_m1/lib/python3.10/site-packages/tqdm/auto.py:22: TqdmWarning: IProgress not found. Please update jupyter and ipywidgets. See https://ipywidgets.readthedocs.io/en/stable/user_install.html\n",
      "  from .autonotebook import tqdm as notebook_tqdm\n"
     ]
    }
   ],
   "source": [
    "import glob\n",
    "import numpy as np\n",
    "import pandas as pd\n",
    "import tensorflow as tf\n",
    "from tensorflow.keras.models import Model\n",
    "from tensorflow.keras.layers import Input, Concatenate, Conv2D, Flatten, Dense, GlobalAveragePooling2D, Dropout\n",
    "from tensorflow.keras.applications import EfficientNetB0 as BaseModel\n",
    "from tensorflow.keras.applications.efficientnet import preprocess_input\n",
    "from one_hot_encoder import one_hot_encode_sex, one_hot_encode_localization, one_hot_encode_dx\n",
    "from matplotlib import pyplot as plt\n",
    "from transformers import ViTFeatureExtractor, ViTModel\n",
    "import torch\n",
    "from datasets import load_dataset\n",
    "from PIL import Image"
   ]
  },
  {
   "cell_type": "markdown",
   "id": "557fae9a-1db3-4f7e-a525-2afda72f441f",
   "metadata": {},
   "source": [
    "## Constants"
   ]
  },
  {
   "cell_type": "code",
   "execution_count": 2,
   "id": "8c098a4b-7931-4d3a-855b-4cf4231f6a79",
   "metadata": {},
   "outputs": [],
   "source": [
    "N_CLASSES_PREDICTOR = 7\n",
    "\n",
    "# [age, sex, localization]\n",
    "N_DIM_AGE = 1\n",
    "N_DIM_SEX = 3\n",
    "N_DIM_LOCALIZATION = 15\n",
    "N_DIM_IMAGE = 151296\n",
    "BATCH_SIZE = 32\n",
    "IMAGE_HEIGHT = 224\n",
    "IMAGE_WIDTH = 224\n",
    "IMAGE_CHANNELS = 3"
   ]
  },
  {
   "cell_type": "markdown",
   "id": "ad2976ea-a3dd-495e-b1ff-dcc34caad160",
   "metadata": {},
   "source": [
    "## Load ViT"
   ]
  },
  {
   "cell_type": "code",
   "execution_count": 3,
   "id": "c27ea982-7881-43c7-aa39-02e640310d04",
   "metadata": {},
   "outputs": [],
   "source": [
    "feature_extractor = ViTFeatureExtractor.from_pretrained(\"google/vit-base-patch16-224-in21k\")\n",
    "ViTmodel = ViTModel.from_pretrained(\"google/vit-base-patch16-224-in21k\").to(\"mps\")"
   ]
  },
  {
   "cell_type": "code",
   "execution_count": 4,
   "id": "cd5b79c7-f891-4ab0-82ac-c825d402bc8e",
   "metadata": {},
   "outputs": [
    {
     "name": "stdout",
     "output_type": "stream",
     "text": [
      "/Users/nils_hellwig/.cache/huggingface/hub\n"
     ]
    }
   ],
   "source": [
    "from transformers import file_utils\n",
    "print(file_utils.default_cache_path)"
   ]
  },
  {
   "cell_type": "markdown",
   "id": "a237b23a-df2e-4f79-9119-1476a2a066f6",
   "metadata": {},
   "source": [
    "## Create Model"
   ]
  },
  {
   "cell_type": "code",
   "execution_count": 5,
   "id": "b34024ac-2f1d-4273-a18c-a91a0a786580",
   "metadata": {},
   "outputs": [
    {
     "name": "stdout",
     "output_type": "stream",
     "text": [
      "Metal device set to: Apple M1 Max\n"
     ]
    },
    {
     "name": "stderr",
     "output_type": "stream",
     "text": [
      "2022-11-15 14:39:01.942411: I tensorflow/core/common_runtime/pluggable_device/pluggable_device_factory.cc:306] Could not identify NUMA node of platform GPU ID 0, defaulting to 0. Your kernel may not have been built with NUMA support.\n",
      "2022-11-15 14:39:01.942563: I tensorflow/core/common_runtime/pluggable_device/pluggable_device_factory.cc:272] Created TensorFlow device (/job:localhost/replica:0/task:0/device:GPU:0 with 0 MB memory) -> physical PluggableDevice (device: 0, name: METAL, pci bus id: <undefined>)\n"
     ]
    }
   ],
   "source": [
    "# 1. AGE INPUT\n",
    "age_input = Input((N_DIM_AGE))\n",
    "\n",
    "# 2. SEX INPUT\n",
    "sex_input = Input((N_DIM_SEX))\n",
    "\n",
    "# 3. LOCALIZATION INPUT\n",
    "localization_input = Input((N_DIM_LOCALIZATION))\n",
    "\n",
    "# 4. IMAGE INPUT: Convolution + Flatten for the image\n",
    "image_input = Input((N_DIM_IMAGE))\n",
    "\n",
    "# Concatenate the convolutional features and the vector input\n",
    "concat_layer = Concatenate()([age_input, sex_input, localization_input, image_input])\n",
    "cl_layer1 = Dense(128, activation=\"relu\")(concat_layer)\n",
    "cl_layer2 = Dense(128, activation=\"relu\")(cl_layer1)\n",
    "output = Dense(N_CLASSES_PREDICTOR, activation=\"softmax\")(cl_layer2)\n",
    "\n",
    "# define a model with a list of two inputs\n",
    "model = Model(inputs=[age_input, sex_input, localization_input, image_input], outputs=output)\n",
    "model.compile(loss=\"categorical_crossentropy\", optimizer=\"adam\", metrics=['accuracy'])"
   ]
  },
  {
   "cell_type": "code",
   "execution_count": 6,
   "id": "6b9892f4-8e01-4716-91ce-7523f2916976",
   "metadata": {},
   "outputs": [
    {
     "name": "stdout",
     "output_type": "stream",
     "text": [
      "Model: \"model\"\n",
      "__________________________________________________________________________________________________\n",
      " Layer (type)                   Output Shape         Param #     Connected to                     \n",
      "==================================================================================================\n",
      " input_1 (InputLayer)           [(None, 1)]          0           []                               \n",
      "                                                                                                  \n",
      " input_2 (InputLayer)           [(None, 3)]          0           []                               \n",
      "                                                                                                  \n",
      " input_3 (InputLayer)           [(None, 15)]         0           []                               \n",
      "                                                                                                  \n",
      " input_4 (InputLayer)           [(None, 151296)]     0           []                               \n",
      "                                                                                                  \n",
      " concatenate (Concatenate)      (None, 151315)       0           ['input_1[0][0]',                \n",
      "                                                                  'input_2[0][0]',                \n",
      "                                                                  'input_3[0][0]',                \n",
      "                                                                  'input_4[0][0]']                \n",
      "                                                                                                  \n",
      " dense (Dense)                  (None, 128)          19368448    ['concatenate[0][0]']            \n",
      "                                                                                                  \n",
      " dense_1 (Dense)                (None, 128)          16512       ['dense[0][0]']                  \n",
      "                                                                                                  \n",
      " dense_2 (Dense)                (None, 7)            903         ['dense_1[0][0]']                \n",
      "                                                                                                  \n",
      "==================================================================================================\n",
      "Total params: 19,385,863\n",
      "Trainable params: 19,385,863\n",
      "Non-trainable params: 0\n",
      "__________________________________________________________________________________________________\n"
     ]
    }
   ],
   "source": [
    "model.summary()"
   ]
  },
  {
   "cell_type": "code",
   "execution_count": 7,
   "id": "c3a4a4c7-7ebe-4694-a51a-ca7729deec59",
   "metadata": {},
   "outputs": [
    {
     "data": {
      "image/png": "[encoded data removed]",
      "text/plain": [
       "<IPython.core.display.Image object>"
      ]
     },
     "execution_count": 7,
     "metadata": {},
     "output_type": "execute_result"
    }
   ],
   "source": [
    "dot_img_file = 'model_1.png'\n",
    "tf.keras.utils.plot_model(model, to_file=dot_img_file, show_shapes=True)"
   ]
  },
  {
   "cell_type": "code",
   "execution_count": 8,
   "id": "b686ba05-70e7-42ee-a0a4-a54e2355bde2",
   "metadata": {},
   "outputs": [
    {
     "name": "stdout",
     "output_type": "stream",
     "text": [
      "1/1 [==============================] - 0s 82ms/step\n"
     ]
    },
    {
     "name": "stderr",
     "output_type": "stream",
     "text": [
      "2022-11-15 14:39:02.375879: W tensorflow/core/platform/profile_utils/cpu_utils.cc:128] Failed to get CPU frequency: 0 Hz\n",
      "2022-11-15 14:39:02.420898: I tensorflow/core/grappler/optimizers/custom_graph_optimizer_registry.cc:114] Plugin optimizer for device_type GPU is enabled.\n"
     ]
    },
    {
     "data": {
      "text/plain": [
       "array([[0.14285715, 0.14285715, 0.14285715, 0.14285715, 0.14285715,\n",
       "        0.14285715, 0.14285715]], dtype=float32)"
      ]
     },
     "execution_count": 8,
     "metadata": {},
     "output_type": "execute_result"
    }
   ],
   "source": [
    "model.predict([np.zeros((1, N_DIM_AGE)), np.zeros((1, N_DIM_SEX)), np.zeros((1, N_DIM_LOCALIZATION)), np.zeros((1, N_DIM_IMAGE))])"
   ]
  },
  {
   "cell_type": "markdown",
   "id": "aef5153a-404a-4b67-b605-7d1f3ba06f97",
   "metadata": {},
   "source": [
    "## Create Data Generator"
   ]
  },
  {
   "cell_type": "code",
   "execution_count": 9,
   "id": "44e92f88-46bf-4be7-9551-8b3ecd2eef9a",
   "metadata": {},
   "outputs": [],
   "source": [
    "train_df = pd.read_csv(\"train.csv\", delimiter=\";\")\n",
    "validation_df = pd.read_csv(\"validation.csv\", delimiter=\";\")"
   ]
  },
  {
   "cell_type": "code",
   "execution_count": 10,
   "id": "51f755de-a1f4-476c-ad1b-d69d2d427921",
   "metadata": {},
   "outputs": [],
   "source": [
    "class Generator(tf.keras.utils.Sequence):\n",
    "\n",
    "    def __init__(self, df, X_col, y_col, batch_size, input_size, shuffle=True):\n",
    "        self.df = df.copy()\n",
    "        self.X_col = X_col\n",
    "        self.y_col = y_col\n",
    "        self.batch_size = batch_size\n",
    "        self.input_size = input_size\n",
    "        self.shuffle = shuffle\n",
    "        self.data_generator_size = len(self.df)\n",
    "\n",
    "    def on_epoch_end(self):\n",
    "        if self.shuffle:\n",
    "            self.df = self.df.sample(frac=1).reset_index(drop=True)\n",
    "    \n",
    "    def add_augmentation(self, img):\n",
    "        if tf.random.uniform(()) > 0.5:\n",
    "            img = tf.image.flip_left_right(img)\n",
    "        \n",
    "        if tf.random.uniform(()) > 0.5:\n",
    "            img = tf.image.random_flip_up_down(img)\n",
    "            \n",
    "        if tf.random.uniform(()) > 0.5:\n",
    "            img = tf.keras.preprocessing.image.random_rotation(img, 0.2)\n",
    "        return img\n",
    "            \n",
    "    def __get_image(self, image_id):\n",
    "        image_arr = tf.io.read_file(\"dataset/\"+image_id+\".jpg\")\n",
    "        image_arr = tf.io.decode_jpeg(image_arr)\n",
    "        image_arr = tf.image.resize(image_arr, [IMAGE_HEIGHT, IMAGE_WIDTH], antialias=True, method=\"bicubic\")\n",
    "        image_arr = self.add_augmentation(image_arr)\n",
    "\n",
    "        # pass to ViT\n",
    "        inputs = feature_extractor(image_arr.numpy(), return_tensors=\"pt\")\n",
    "        with torch.no_grad():\n",
    "            outputs = ViTmodel(**inputs.to(\"mps\"))\n",
    "        last_hidden_states = outputs.last_hidden_state\n",
    "        last_hidden_states = last_hidden_states.reshape(N_DIM_IMAGE)\n",
    "        \n",
    "        return last_hidden_states.cpu().data.numpy()\n",
    "\n",
    "    def __get_input(self, image_id_batch):\n",
    "        image_batch = np.array([self.__get_image(image_id) for image_id in image_id_batch]).reshape(BATCH_SIZE, N_DIM_IMAGE)\n",
    "        age_batch = np.array([self.df.loc[self.df['image_id'] == image_id].age.values[0] for image_id in image_id_batch]).reshape(BATCH_SIZE, 1) / 100\n",
    "        age_batch = np.nan_to_num(age_batch, copy=True, nan=0.0, posinf=None, neginf=None)\n",
    "        sex_batch = np.array([one_hot_encode_sex(self.df.loc[self.df['image_id'] == image_id].sex.values[0]) for image_id in image_id_batch]).reshape(BATCH_SIZE, 3)\n",
    "        localization_batch = np.array([one_hot_encode_localization(self.df.loc[self.df['image_id'] == image_id].localization.values[0]) for image_id in image_id_batch]).reshape(BATCH_SIZE, 15)\n",
    "\n",
    "        return [age_batch,\n",
    "                sex_batch, \n",
    "                localization_batch,\n",
    "                image_batch]\n",
    "\n",
    "    def __get_output(self, label, num_classes):\n",
    "        return one_hot_encode_dx(label)\n",
    "\n",
    "    def __get_data(self, batches):\n",
    "        image_id_batch = batches[self.X_col]\n",
    "        label_batch = batches[self.y_col]\n",
    "        \n",
    "        X_batch = self.__get_input(list(image_id_batch))\n",
    "        y0_batch = np.asarray([self.__get_output(y, N_CLASSES_PREDICTOR) for y in label_batch])\n",
    "\n",
    "        return X_batch, y0_batch\n",
    "\n",
    "    def __getitem__(self, index):\n",
    "        batches = self.df[index * self.batch_size:(index + 1) * self.batch_size]\n",
    "        X, y = self.__get_data(batches)\n",
    "        return X, y\n",
    "\n",
    "    def __len__(self):\n",
    "        return self.data_generator_size // self.batch_size"
   ]
  },
  {
   "cell_type": "code",
   "execution_count": 11,
   "id": "d9101d71-47b8-46ed-999a-8175daf658d1",
   "metadata": {},
   "outputs": [],
   "source": [
    "train_generator = Generator(train_df, X_col=\"image_id\", y_col=\"dx\", batch_size = BATCH_SIZE, input_size=(IMAGE_HEIGHT, IMAGE_WIDTH))\n",
    "validation_generator = Generator(validation_df, X_col=\"image_id\", y_col=\"dx\", batch_size = BATCH_SIZE, input_size=(IMAGE_HEIGHT, IMAGE_WIDTH))"
   ]
  },
  {
   "cell_type": "code",
   "execution_count": 12,
   "id": "8dee9db8-5f13-449a-95be-4574befc1fa7",
   "metadata": {},
   "outputs": [
    {
     "name": "stdout",
     "output_type": "stream",
     "text": [
      "(32, 151296) (32, 151296)\n"
     ]
    }
   ],
   "source": [
    "for bt in train_generator:\n",
    "    print(bt[0][3].shape, bt[0][3].shape)\n",
    "    break"
   ]
  },
  {
   "cell_type": "code",
   "execution_count": 13,
   "id": "2c5010e5-56f6-473a-ad15-7719fb57bc24",
   "metadata": {},
   "outputs": [],
   "source": [
    "early_stopping_callback = tf.keras.callbacks.EarlyStopping(monitor = \"val_accuracy\", patience = 10, restore_best_weights = True, min_delta = 0.001, verbose = 1)"
   ]
  },
  {
   "cell_type": "code",
   "execution_count": null,
   "id": "92fc1c9e-0f8b-496d-8a40-e9d344249ef3",
   "metadata": {},
   "outputs": [
    {
     "name": "stdout",
     "output_type": "stream",
     "text": [
      "Epoch 1/10\n"
     ]
    },
    {
     "name": "stderr",
     "output_type": "stream",
     "text": [
      "2022-11-15 14:39:05.678520: I tensorflow/core/grappler/optimizers/custom_graph_optimizer_registry.cc:114] Plugin optimizer for device_type GPU is enabled.\n"
     ]
    },
    {
     "name": "stdout",
     "output_type": "stream",
     "text": [
      "250/250 [==============================] - ETA: 0s - loss: 2.5802 - accuracy: 0.5951"
     ]
    },
    {
     "name": "stderr",
     "output_type": "stream",
     "text": [
      "2022-11-15 14:45:09.094161: I tensorflow/core/grappler/optimizers/custom_graph_optimizer_registry.cc:114] Plugin optimizer for device_type GPU is enabled.\n"
     ]
    },
    {
     "name": "stdout",
     "output_type": "stream",
     "text": [
      "250/250 [==============================] - 407s 2s/step - loss: 2.5802 - accuracy: 0.5951 - val_loss: 1.2552 - val_accuracy: 0.6562\n",
      "Epoch 2/10\n",
      " 47/250 [====>.........................] - ETA: 4:53 - loss: 1.0608 - accuracy: 0.6842"
     ]
    }
   ],
   "source": [
    "history = model.fit(train_generator, epochs=10, verbose=1, validation_data=validation_generator, callbacks=[early_stopping_callback])"
   ]
  },
  {
   "cell_type": "code",
   "execution_count": null,
   "id": "1eee908f-a613-475f-beb6-690434a459b3",
   "metadata": {},
   "outputs": [],
   "source": [
    "for bt in validation_generator:\n",
    "    print(bt[0][3].shape, bt[0][3].shape)\n",
    "    print(model.predict(bt[0]))\n",
    "    break"
   ]
  },
  {
   "cell_type": "code",
   "execution_count": null,
   "id": "4f413e06-29aa-4681-b477-85b8f379ebfc",
   "metadata": {},
   "outputs": [],
   "source": []
  }
 ],
 "metadata": {
  "kernelspec": {
   "display_name": "Python 3 (ipykernel)",
   "language": "python",
   "name": "python3"
  },
  "language_info": {
   "codemirror_mode": {
    "name": "ipython",
    "version": 3
   },
   "file_extension": ".py",
   "mimetype": "text/x-python",
   "name": "python",
   "nbconvert_exporter": "python",
   "pygments_lexer": "ipython3",
   "version": "3.10.6"
  }
 },
 "nbformat": 4,
 "nbformat_minor": 5
}
